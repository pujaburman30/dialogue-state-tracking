{
  "nbformat": 4,
  "nbformat_minor": 0,
  "metadata": {
    "colab": {
      "name": "woz_dataFilter.ipynb",
      "provenance": [],
      "mount_file_id": "1NseYCHcY0dcHI67XVy_7wK6-LukOHVbh",
      "authorship_tag": "ABX9TyNAVQ/iVZBND2ScUfm2ddHI",
      "include_colab_link": true
    },
    "kernelspec": {
      "name": "python3",
      "display_name": "Python 3"
    }
  },
  "cells": [
    {
      "cell_type": "markdown",
      "metadata": {
        "id": "view-in-github",
        "colab_type": "text"
      },
      "source": [
        "<a href=\"https://colab.research.google.com/github/pujaburman30/dialogue-state-tracking/blob/master/woz_dataFilter.ipynb\" target=\"_parent\"><img src=\"https://colab.research.google.com/assets/colab-badge.svg\" alt=\"Open In Colab\"/></a>"
      ]
    },
    {
      "cell_type": "code",
      "metadata": {
        "colab": {
          "base_uri": "https://localhost:8080/"
        },
        "id": "TwmqPciMjb6E",
        "outputId": "20ca7dfb-1fce-435a-a7bf-6f73d8e0d1de"
      },
      "source": [
        "# Mount google drive to get the input data.json\r\n",
        "from google.colab import drive\r\n",
        "drive.mount('/content/drive')"
      ],
      "execution_count": 1,
      "outputs": [
        {
          "output_type": "stream",
          "text": [
            "Drive already mounted at /content/drive; to attempt to forcibly remount, call drive.mount(\"/content/drive\", force_remount=True).\n"
          ],
          "name": "stdout"
        }
      ]
    },
    {
      "cell_type": "code",
      "metadata": {
        "colab": {
          "base_uri": "https://localhost:8080/"
        },
        "id": "jmaRHFbkoh8a",
        "outputId": "e086bdcd-3464-4af4-90aa-df62230473a8"
      },
      "source": [
        "import json \r\n",
        "import xlwt \r\n",
        "from xlwt import Workbook \r\n",
        "\r\n",
        "# Opening JSON file \r\n",
        "f = open('/content/drive/MyDrive/DST_files/data.json',) \r\n",
        "  \r\n",
        "# returns JSON object as  \r\n",
        "# a dictionary \r\n",
        "res = json.load(f)\r\n",
        " \r\n",
        "# path variables to store filtered json files\r\n",
        "path_attrac = \"/content/drive/MyDrive/DST_files/attraction/\"\r\n",
        "path_rest = \"/content/drive/MyDrive/DST_files/restaurant/\"\r\n",
        "path_taxi = \"/content/drive/MyDrive/DST_files/taxi/\"\r\n",
        "path_attrac_rest = \"/content/drive/MyDrive/DST_files/attraction_restaurant/\"\r\n",
        "path_attrac_taxi = \"/content/drive/MyDrive/DST_files/attraction_taxi/\"\r\n",
        "path_rest_taxi = \"/content/drive/MyDrive/DST_files/restaurant_taxi/\"\r\n",
        "path_attrac_rest_taxi = \"/content/drive/MyDrive/DST_files/attraction_restaurant_taxi/\"\r\n",
        "path_others = \"/content/drive/MyDrive/DST_files/others/\"\r\n",
        "\r\n",
        "# count variables to store count of filtered json files\r\n",
        "count_attrac = 0\r\n",
        "count_rest = 0\r\n",
        "count_taxi = 0\r\n",
        "count_attrac_rest = 0\r\n",
        "count_attrac_taxi = 0\r\n",
        "count_rest_taxi = 0\r\n",
        "count_attrac_rest_taxi = 0\r\n",
        "count_others = 0\r\n",
        "\r\n",
        "# iterate through each item in res\r\n",
        "for (pk, pv) in res.items():\r\n",
        "\r\n",
        "   # fetch json related to attraction\r\n",
        "   if ((pv['goal']['attraction']) and len(pv['goal']['taxi'])==0 and len(pv['goal']['hospital']) == 0 \r\n",
        "      and len(pv['goal']['hotel']) == 0 and len(pv['goal']['police']) == 0\r\n",
        "      and len(pv['goal']['train'])== 0 and len(pv['goal']['restaurant'])==0):\r\n",
        "      count_attrac += 1\r\n",
        "      with open(path_attrac + pk, \"w\") as write_file:\r\n",
        "        json.dump(pv, write_file)\r\n",
        "\r\n",
        "  # fetch json related to restaurant\r\n",
        "   elif ((pv['goal']['restaurant']) and len(pv['goal']['taxi'])==0 and len(pv['goal']['hospital']) == 0 \r\n",
        "      and len(pv['goal']['hotel']) == 0 and len(pv['goal']['police']) == 0\r\n",
        "      and len(pv['goal']['train'])== 0 and len(pv['goal']['attraction'])==0):\r\n",
        "      count_rest += 1\r\n",
        "      with open(path_rest + pk, \"w\") as write_file:\r\n",
        "        json.dump(pv, write_file)\r\n",
        "\r\n",
        "  # fetch json related to taxi\r\n",
        "   elif ((pv['goal']['taxi']) and len(pv['goal']['restaurant'])==0 and len(pv['goal']['hospital']) == 0 \r\n",
        "      and len(pv['goal']['hotel']) == 0 and len(pv['goal']['police']) == 0\r\n",
        "      and len(pv['goal']['train'])== 0 and len(pv['goal']['attraction'])==0):\r\n",
        "      count_taxi += 1;\r\n",
        "      with open(path_taxi + pk, \"w\") as write_file:\r\n",
        "        json.dump(pv, write_file)\r\n",
        "\r\n",
        "  # fetch json related to attraction & restaurant\r\n",
        "   elif ((pv['goal']['attraction']) and (pv['goal']['restaurant']) and len(pv['goal']['taxi'])==0\r\n",
        "      and len(pv['goal']['hospital']) == 0 and len(pv['goal']['hotel']) == 0 and len(pv['goal']['police']) == 0\r\n",
        "      and len(pv['goal']['train'])== 0):\r\n",
        "      count_attrac_rest += 1\r\n",
        "      with open(path_attrac_rest + pk, \"w\") as write_file:\r\n",
        "        json.dump(pv, write_file)\r\n",
        "\r\n",
        "  # fetch json related to attraction & taxi\r\n",
        "   elif ((pv['goal']['attraction']) and (pv['goal']['taxi']) and len(pv['goal']['restaurant'])==0\r\n",
        "      and len(pv['goal']['hospital']) == 0 and len(pv['goal']['hotel']) == 0 and len(pv['goal']['police']) == 0\r\n",
        "      and len(pv['goal']['train'])== 0):\r\n",
        "      count_attrac_taxi += 1\r\n",
        "      with open(path_attrac_taxi + pk, \"w\") as write_file:\r\n",
        "        json.dump(pv, write_file)\r\n",
        "\r\n",
        "  # fetch json related to restaurant & taxi\r\n",
        "   elif ((pv['goal']['restaurant']) and (pv['goal']['taxi']) and len(pv['goal']['hospital']) == 0 \r\n",
        "      and len(pv['goal']['hotel']) == 0 and len(pv['goal']['police']) == 0\r\n",
        "      and len(pv['goal']['train'])== 0 and len(pv['goal']['attraction'])==0):\r\n",
        "      count_rest_taxi += 1\r\n",
        "      with open(path_rest_taxi + pk, \"w\") as write_file:\r\n",
        "        json.dump(pv, write_file)\r\n",
        "\r\n",
        "  # fetch json related to attraction, restarant & taxi\r\n",
        "   elif ((pv['goal']['attraction']) and (pv['goal']['restaurant']) and (pv['goal']['taxi'])\r\n",
        "      and len(pv['goal']['hospital']) == 0 and len(pv['goal']['hotel']) == 0 and len(pv['goal']['police']) == 0\r\n",
        "      and len(pv['goal']['train'])== 0):\r\n",
        "      count_attrac_rest_taxi += 1\r\n",
        "      with open(path_attrac_rest_taxi + pk, \"w\") as write_file:\r\n",
        "        json.dump(pv, write_file)\r\n",
        "\r\n",
        "  # fetch json related to others\r\n",
        "   else:\r\n",
        "      count_others += 1\r\n",
        "      with open(path_others + pk, \"w\") as write_file:\r\n",
        "        json.dump(pv, write_file)\r\n",
        "   \r\n",
        "# create stats.xls file\r\n",
        "# Workbook is created \r\n",
        "wb = Workbook() \r\n",
        "  \r\n",
        "# add_sheet is used to create sheet. \r\n",
        "sheet1 = wb.add_sheet('Sheet 1') \r\n",
        "\r\n",
        "#write data in cells\r\n",
        "sheet1.write(1, 1, 'Attraction') \r\n",
        "sheet1.write(1, 2, 'Restaurant') \r\n",
        "sheet1.write(1, 3, 'Taxi') \r\n",
        "sheet1.write(1, 4, 'Attraction & Restaurant') \r\n",
        "sheet1.write(1, 5, 'Attraction & Taxi') \r\n",
        "sheet1.write(1, 6, 'Restaurant & Taxi') \r\n",
        "sheet1.write(1, 7, 'Attraction, Restaurant & Taxi') \r\n",
        "sheet1.write(1, 8, 'Others') \r\n",
        "sheet1.write(2, 1, count_attrac) \r\n",
        "sheet1.write(2, 2, count_rest) \r\n",
        "sheet1.write(2, 3, count_taxi) \r\n",
        "sheet1.write(2, 4, count_attrac_rest) \r\n",
        "sheet1.write(2, 5, count_attrac_taxi) \r\n",
        "sheet1.write(2, 6, count_rest_taxi) \r\n",
        "sheet1.write(2, 7, count_attrac_rest_taxi) \r\n",
        "sheet1.write(2, 8, count_others) \r\n",
        "  \r\n",
        "wb.save('stats.xls') \r\n",
        "\r\n"
      ],
      "execution_count": 18,
      "outputs": [
        {
          "output_type": "stream",
          "text": [
            "{'info': {}, 'reqt': ['postcode', 'address', 'phone'], 'fail_info': {}}\n"
          ],
          "name": "stdout"
        }
      ]
    }
  ]
}